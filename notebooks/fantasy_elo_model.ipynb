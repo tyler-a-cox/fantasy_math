{
 "cells": [
  {
   "cell_type": "code",
   "execution_count": 1,
   "id": "a4c5c6d0",
   "metadata": {},
   "outputs": [],
   "source": [
    "import numpy as np\n",
    "import pylab as plt\n",
    "import nfl_data_py as nfl"
   ]
  },
  {
   "cell_type": "markdown",
   "id": "a616bdb0",
   "metadata": {},
   "source": [
    "https://fivethirtyeight.com/methodology/how-our-nfl-predictions-work/"
   ]
  },
  {
   "cell_type": "markdown",
   "id": "dfadab75",
   "metadata": {},
   "source": [
    "Adjustments to traditional Elo\n",
    "- Home field advantage is worth 48 points plus an additional 4 points of Elo for every 1000 miles traveled\n",
    "- A rest adjustment of 25 points of Elo whenever a team is coming off of a bye week\n",
    "- Quarterback Adjustment that assigns every team and each individual QB a rolling performance rating, which can be used to adjust a team's \"effective\" Elo upward or downward in the event of a major injurt or other QB change."
   ]
  },
  {
   "cell_type": "markdown",
   "id": "a8c1e5b9",
   "metadata": {},
   "source": [
    "## Elo Model"
   ]
  },
  {
   "cell_type": "code",
   "execution_count": 2,
   "id": "9ad9768c",
   "metadata": {},
   "outputs": [],
   "source": [
    "def predict_expected_score(R_A, R_B, base=400):\n",
    "    \"\"\"\n",
    "    Returns the expected probability of a win given the Elo gramework\n",
    "    \"\"\"\n",
    "    return (1 + 10 ** ((R_B - R_A) / base)) ** -1\n",
    "\n",
    "def update_elo_score(score, expected, outcome, base=20, multiplier=1):\n",
    "    \"\"\"\n",
    "    \"\"\"\n",
    "    return score + (outcome - expected) * base * multiplier\n",
    "\n",
    "def margin_of_victory_multiplier(point_diff, winner_elo_diff):\n",
    "    \"\"\"\n",
    "    \"\"\"\n",
    "    return np.log(point_diff + 1) * 2.2 * (winner_elo_diff * 0.001 + 2.2) ** -1\n",
    "\n",
    "def update_all_scores(games, teams, home_advantage=48):\n",
    "    \"\"\"\n",
    "    \"\"\"\n",
    "    for game in games:\n",
    "        \n",
    "        predicted_home = predict_expected_score(teams[game['home']] + home_advantage, teams[game['away']])\n",
    "        predicted_away = predict_expected_score(teams[game['away']], teams[game['home']] + home_advantage)\n",
    "        \n",
    "        actual_home = game['outcome']\n",
    "        actual_away = 1 - actual_home\n",
    "        \n",
    "        mov_mult = margin_of_victory_multiplier(game['point_diff'], np.abs(teams[game['home']] - teams[game['away']]))\n",
    "        \n",
    "        teams[game['home']] = update_elo_score(teams[game['home']], predicted_home, actual_home, multiplier=mov_mult)\n",
    "        teams[game['away']] = update_elo_score(teams[game['away']], predicted_away, actual_away, multiplier=mov_mult)\n",
    "        \n",
    "    return teams"
   ]
  },
  {
   "cell_type": "code",
   "execution_count": 3,
   "id": "8ecfa4a2",
   "metadata": {},
   "outputs": [],
   "source": [
    "# Get all games from the 2022 NFL season\n",
    "table = nfl.import_schedules([2022])\n",
    "\n",
    "# Set a starting elo-score for all NFL teams\n",
    "starting_elo = 1500\n",
    "teams = {team_code: starting_elo for team_code in table[\"away_team\"].unique()}\n",
    "\n",
    "# Loop through each week\n",
    "for week in range(1, 18):\n",
    "    week_games = table[table[\"week\"] == week]\n",
    "\n",
    "    games = []\n",
    "    for index, row in week_games.iterrows():\n",
    "        if row[\"home_score\"] > row[\"away_score\"]:\n",
    "            outcome = 1\n",
    "        elif row[\"home_score\"] < row[\"away_score\"]:\n",
    "            outcome = 0\n",
    "        else:\n",
    "            outcome = 0.5\n",
    "\n",
    "        games.append(\n",
    "            {\n",
    "                \"home\": row[\"home_team\"],\n",
    "                \"away\": row[\"away_team\"],\n",
    "                \"outcome\": outcome,\n",
    "                \"point_diff\": np.abs(row[\"home_score\"] - row[\"away_score\"]),\n",
    "            }\n",
    "        )\n",
    "\n",
    "    teams = update_all_scores(games, teams)"
   ]
  },
  {
   "cell_type": "code",
   "execution_count": 4,
   "id": "822f6631",
   "metadata": {},
   "outputs": [
    {
     "data": {
      "text/plain": [
       "{'BUF': 1661.5539483682057,\n",
       " 'NO': 1495.6351715896737,\n",
       " 'CLE': 1508.311725901885,\n",
       " 'SF': 1663.2595958963843,\n",
       " 'PIT': 1516.3410891249193,\n",
       " 'PHI': 1614.7146380243496,\n",
       " 'IND': 1372.2084853648746,\n",
       " 'NE': 1510.2990402355158,\n",
       " 'BAL': 1553.1185193766808,\n",
       " 'JAX': 1548.187670556704,\n",
       " 'KC': 1643.7659541786695,\n",
       " 'LV': 1482.5041346998185,\n",
       " 'GB': 1522.7324400725922,\n",
       " 'NYG': 1515.0716250773771,\n",
       " 'TB': 1481.0412695222096,\n",
       " 'DEN': 1375.3666741060276,\n",
       " 'LAC': 1537.6925798178008,\n",
       " 'MIA': 1472.042551768145,\n",
       " 'NYJ': 1443.0240358907974,\n",
       " 'WAS': 1459.1700377111472,\n",
       " 'CAR': 1464.6704238207578,\n",
       " 'ATL': 1426.3534774911589,\n",
       " 'SEA': 1497.1904686235018,\n",
       " 'CIN': 1638.065212746427,\n",
       " 'HOU': 1340.2832771862036,\n",
       " 'ARI': 1368.6594257958097,\n",
       " 'CHI': 1352.5543874968514,\n",
       " 'TEN': 1441.9365615167544,\n",
       " 'MIN': 1543.6891717563399,\n",
       " 'DET': 1523.1266576799926,\n",
       " 'LA': 1382.2742438056525,\n",
       " 'DAL': 1645.1555047967724}"
      ]
     },
     "execution_count": 4,
     "metadata": {},
     "output_type": "execute_result"
    }
   ],
   "source": [
    "teams"
   ]
  },
  {
   "cell_type": "code",
   "execution_count": 5,
   "id": "17978153",
   "metadata": {
    "scrolled": false
   },
   "outputs": [
    {
     "data": {
      "text/plain": [
       "{'HOU': 1340.2832771862036,\n",
       " 'CHI': 1352.5543874968514,\n",
       " 'ARI': 1368.6594257958097,\n",
       " 'IND': 1372.2084853648746,\n",
       " 'DEN': 1375.3666741060276,\n",
       " 'LA': 1382.2742438056525,\n",
       " 'ATL': 1426.3534774911589,\n",
       " 'TEN': 1441.9365615167544,\n",
       " 'NYJ': 1443.0240358907974,\n",
       " 'WAS': 1459.1700377111472,\n",
       " 'CAR': 1464.6704238207578,\n",
       " 'MIA': 1472.042551768145,\n",
       " 'TB': 1481.0412695222096,\n",
       " 'LV': 1482.5041346998185,\n",
       " 'NO': 1495.6351715896737,\n",
       " 'SEA': 1497.1904686235018,\n",
       " 'CLE': 1508.311725901885,\n",
       " 'NE': 1510.2990402355158,\n",
       " 'NYG': 1515.0716250773771,\n",
       " 'PIT': 1516.3410891249193,\n",
       " 'GB': 1522.7324400725922,\n",
       " 'DET': 1523.1266576799926,\n",
       " 'LAC': 1537.6925798178008,\n",
       " 'MIN': 1543.6891717563399,\n",
       " 'JAX': 1548.187670556704,\n",
       " 'BAL': 1553.1185193766808,\n",
       " 'PHI': 1614.7146380243496,\n",
       " 'CIN': 1638.065212746427,\n",
       " 'KC': 1643.7659541786695,\n",
       " 'DAL': 1645.1555047967724,\n",
       " 'BUF': 1661.5539483682057,\n",
       " 'SF': 1663.2595958963843}"
      ]
     },
     "execution_count": 5,
     "metadata": {},
     "output_type": "execute_result"
    }
   ],
   "source": [
    "dict(sorted(teams.items(), key=lambda item: item[1]))"
   ]
  },
  {
   "cell_type": "code",
   "execution_count": null,
   "id": "a7782bba",
   "metadata": {},
   "outputs": [],
   "source": []
  }
 ],
 "metadata": {
  "kernelspec": {
   "display_name": "Python 3 (ipykernel)",
   "language": "python",
   "name": "python3"
  },
  "language_info": {
   "codemirror_mode": {
    "name": "ipython",
    "version": 3
   },
   "file_extension": ".py",
   "mimetype": "text/x-python",
   "name": "python",
   "nbconvert_exporter": "python",
   "pygments_lexer": "ipython3",
   "version": "3.8.8"
  },
  "toc": {
   "base_numbering": 1,
   "nav_menu": {},
   "number_sections": true,
   "sideBar": true,
   "skip_h1_title": false,
   "title_cell": "Table of Contents",
   "title_sidebar": "Contents",
   "toc_cell": false,
   "toc_position": {},
   "toc_section_display": true,
   "toc_window_display": false
  }
 },
 "nbformat": 4,
 "nbformat_minor": 5
}
