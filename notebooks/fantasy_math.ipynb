{
 "cells": [
  {
   "cell_type": "code",
   "execution_count": 5,
   "id": "a4c5c6d0",
   "metadata": {},
   "outputs": [],
   "source": [
    "import numpy as np\n",
    "import pylab as plt\n",
    "import requests\n",
    "import io\n",
    "import pymc as pm\n",
    "\n",
    "from scipy import stats, linalg\n",
    "import nfl_data_py as nfl"
   ]
  },
  {
   "cell_type": "markdown",
   "id": "5e78ed38",
   "metadata": {},
   "source": [
    "## Recreating Fantasy Math"
   ]
  },
  {
   "cell_type": "markdown",
   "id": "f56735b5",
   "metadata": {},
   "source": [
    "[Fantasy Math](https://www.nathanbraun.com/fantasymath/) model used to help set fantasy football line-ups. Models the player outputs as a function of their [ECR](https://www.fantasypros.com/nfl/rankings/ppr-wr-cheatsheets.php)."
   ]
  },
  {
   "cell_type": "code",
   "execution_count": 6,
   "id": "4296e9e5",
   "metadata": {},
   "outputs": [],
   "source": [
    "class Player:\n",
    "    def __init__(self, alpha, beta, player_name=None, team=None, position=None):\n",
    "        \"\"\"\n",
    "        \"\"\"\n",
    "        self.name = player_name\n",
    "        self.team = team\n",
    "        self.position = position\n",
    "        self.alpha = alpha\n",
    "        self.beta = beta\n",
    "\n",
    "    def _populate_statistics(self):\n",
    "        \"\"\"\n",
    "        Take information from a table and load it into a dictionary\n",
    "        \"\"\"\n",
    "        self.statistics = {}\n",
    "        \n",
    "    def _get_weekly_ecr(self):\n",
    "        \"\"\"\n",
    "        \"\"\"\n",
    "        pass\n",
    "    \n",
    "    def _cls(self):\n",
    "        \"\"\"\n",
    "        \"\"\"\n",
    "        pass"
   ]
  },
  {
   "cell_type": "markdown",
   "id": "6ac46f92",
   "metadata": {},
   "source": [
    "Procedure for generating correlated samples\n",
    "\n",
    "1. Define distributions associated with each random variable (player score)\n",
    "    1. This comes from historical data associated with the player ECR\n",
    "2. Define correlations between random variables\n",
    "    1. Again historical data\n",
    "3. Sample from correlated distributions\n",
    "    1. asdf"
   ]
  },
  {
   "cell_type": "code",
   "execution_count": 7,
   "id": "ca3210ff",
   "metadata": {},
   "outputs": [],
   "source": [
    "alpha_x = 4.0 # Shape parameter for X\n",
    "beta_x = 1.0 # Rate parameter for X\n",
    "\n",
    "alpha_y = 3.0\n",
    "beta_y = 0.5 \n",
    "\n",
    "# Degree of correlation\n",
    "correlation = 0.5\n",
    "\n",
    "# Define the covariance matrix\n",
    "corr = np.array([\n",
    "    [1, correlation], [correlation, 1]\n",
    "])\n",
    "\n",
    "\n",
    "nsamples = 50000\n",
    "samples_correlated = np.random.multivariate_normal(np.zeros(2), corr, size=nsamples)"
   ]
  },
  {
   "cell_type": "code",
   "execution_count": 8,
   "id": "564750f9",
   "metadata": {},
   "outputs": [],
   "source": [
    "samples_x = stats.gamma.ppf(\n",
    "    stats.norm.cdf(samples_correlated[:, 0]),\n",
    "    alpha_x,\n",
    "    scale=beta_x ** -1,\n",
    ")\n",
    "\n",
    "samples_y = stats.gamma.ppf(\n",
    "    stats.norm.cdf(samples_correlated[:, 1]),\n",
    "    alpha_y,\n",
    "    scale=beta_y ** -1,\n",
    ")"
   ]
  },
  {
   "cell_type": "code",
   "execution_count": 9,
   "id": "1c2106bb",
   "metadata": {
    "scrolled": true
   },
   "outputs": [
    {
     "data": {
      "image/png": "[encoded data removed]",
      "text/plain": [
       "<Figure size 432x288 with 1 Axes>"
      ]
     },
     "metadata": {
      "needs_background": "light"
     },
     "output_type": "display_data"
    }
   ],
   "source": [
    "plt.figure()\n",
    "plt.hist(np.random.gamma(alpha_x, 1 / beta_x, size=nsamples), bins=100, histtype='step')\n",
    "plt.hist(np.random.gamma(alpha_y, 1 / beta_y, size=nsamples), bins=100, histtype='step')\n",
    "plt.show()"
   ]
  },
  {
   "cell_type": "code",
   "execution_count": 10,
   "id": "a3507cc7",
   "metadata": {},
   "outputs": [
    {
     "data": {
      "image/png": "[encoded data removed]",
      "text/plain": [
       "<Figure size 432x288 with 1 Axes>"
      ]
     },
     "metadata": {
      "needs_background": "light"
     },
     "output_type": "display_data"
    }
   ],
   "source": [
    "plt.figure()\n",
    "plt.hist(samples_x, bins=100, histtype='step')\n",
    "plt.hist(samples_y, bins=100, histtype='step')\n",
    "plt.show()"
   ]
  },
  {
   "cell_type": "markdown",
   "id": "498e1a35",
   "metadata": {},
   "source": [
    "## Teams"
   ]
  },
  {
   "cell_type": "code",
   "execution_count": 11,
   "id": "f0f6f1cd",
   "metadata": {},
   "outputs": [],
   "source": [
    "def generate_samples(dist_params, correlation, nsamples=1000):\n",
    "    \"\"\"\n",
    "    \"\"\"\n",
    "    assert len(dist_params) == correlation.shape[0], \"A\"\n",
    "\n",
    "    # asdf\n",
    "    samples = np.random.multivariate_normal(\n",
    "        np.zeros(correlation.shape[0]), correlation, nsamples\n",
    "    )\n",
    "\n",
    "    players = []\n",
    "    for player_ind, (alpha, beta) in enumerate(dist_params):\n",
    "        player_samples = stats.gamma.ppf(\n",
    "            stats.norm.cdf(samples[:, player_ind]), alpha, scale=beta ** -1,\n",
    "        )\n",
    "        players.append(player_samples)\n",
    "\n",
    "    return np.array(players)\n",
    "\n",
    "def fit_gamma_distribution(statistics, method='MLE', loc=0.0):\n",
    "    \"\"\"\n",
    "    \"\"\"\n",
    "    if method == \"MLE\":\n",
    "        shape, _, scale = stats.gamma.fit(statistics, floc=loc)\n",
    "        \n",
    "    elif method == 'Bayes':\n",
    "        shape, scale = None, None \n",
    "    \n",
    "    else:\n",
    "        raise ValueError(f\"Method, {method}, is currently unsupoorted\")\n",
    "    return "
   ]
  },
  {
   "cell_type": "code",
   "execution_count": 12,
   "id": "21c1a8d1",
   "metadata": {},
   "outputs": [],
   "source": [
    "# Generate mock rosters and correlations between players\n",
    "nplayers = 10\n",
    "dist_params1 = list(zip(np.full(nplayers, 10), np.linspace(0.5, 0.5, nplayers)))\n",
    "dist_params2 = list(zip(np.full(nplayers, 10), np.linspace(0.1, 0.2, nplayers)))\n",
    "\n",
    "nsamples = 10000\n",
    "used_off_diagonal_terms = True\n",
    "\n",
    "if used_off_diagonal_terms:\n",
    "    correlation = np.random.uniform(0, 0.25, size=(10, 10))\n",
    "    correlation[np.diag_indices_from(correlation)] = 1\n",
    "    correlation = (correlation + correlation.T) / 2\n",
    "else:\n",
    "    correlation = np.diag(np.ones(nplayers))\n",
    "\n",
    "team1 = generate_samples(dist_params1, correlation, nsamples=nsamples)\n",
    "team2 = generate_samples(dist_params2, correlation, nsamples=nsamples)"
   ]
  },
  {
   "cell_type": "code",
   "execution_count": 13,
   "id": "8dd03a78",
   "metadata": {},
   "outputs": [],
   "source": [
    "params = [stats.gamma.fit(team1[i], floc=0.0) for i in range(team1.shape[0])]"
   ]
  },
  {
   "cell_type": "code",
   "execution_count": 14,
   "id": "c09a5038",
   "metadata": {},
   "outputs": [
    {
     "data": {
      "image/png": "[encoded data removed]",
      "text/plain": [
       "<Figure size 432x288 with 1 Axes>"
      ]
     },
     "metadata": {
      "needs_background": "light"
     },
     "output_type": "display_data"
    }
   ],
   "source": [
    "plt.figure()\n",
    "plt.hist(team1.sum(0), bins=100, histtype='step')\n",
    "plt.hist(team2.sum(0), bins=100, histtype='step')\n",
    "plt.show()"
   ]
  },
  {
   "cell_type": "code",
   "execution_count": 15,
   "id": "7ca4c5a7",
   "metadata": {},
   "outputs": [],
   "source": [
    "from scipy import special\n",
    "\n",
    "def win_probability(team1, team2):\n",
    "    \"\"\"\n",
    "    Gives the probability of team 1 scoring a higher than team 2 assuming team 1 and team 2\n",
    "    are Gaussian distributed\n",
    "    \"\"\"\n",
    "    mu1 = np.mean(team1)\n",
    "    mu2 = np.mean(team2)\n",
    "    mu = mu1 - mu2\n",
    "    \n",
    "    var1 = np.var(team1)\n",
    "    var2 = np.var(team2)\n",
    "    var = var1 + var2\n",
    "    \n",
    "    return special.erfc(-mu / np.sqrt(2 * var)) / 2"
   ]
  },
  {
   "cell_type": "code",
   "execution_count": 16,
   "id": "8a3bae02",
   "metadata": {},
   "outputs": [],
   "source": [
    "X = np.sum(team1, axis=0)\n",
    "Y = np.sum(team2, axis=0)"
   ]
  },
  {
   "cell_type": "markdown",
   "id": "96915b48",
   "metadata": {},
   "source": [
    "### Bayesian Modeling"
   ]
  },
  {
   "cell_type": "markdown",
   "id": "4d9185ba",
   "metadata": {},
   "source": [
    "Another approach we can take to modeling the distribution of player outcomes, is by performing an MCMC fit of a Gamma distribution to the data. This approach allows us to account of uncertainties in our estimate of the Gamma distribution and incorporate those incertainties into the sampling. This approach is far slower, but in theory, produces samples which better match the true points distribution.\n",
    "\n",
    "Posteriors look roughly Gaussian. Perhaps the best thing to do would be to fit the MCMC to the true distributions. After computing the mean and covariance of the posteriors, we can generate $\\alpha$ and $\\beta$ samples from a multivariate Gaussian distribution. We can then use these $\\alpha$ and $\\beta$ values to sample from Gamma distributions to simulate."
   ]
  },
  {
   "cell_type": "code",
   "execution_count": 17,
   "id": "87af9056",
   "metadata": {},
   "outputs": [
    {
     "name": "stderr",
     "output_type": "stream",
     "text": [
      "Auto-assigning NUTS sampler...\n",
      "Initializing NUTS using jitter+adapt_diag...\n",
      "Multiprocess sampling (4 chains in 4 jobs)\n",
      "NUTS: [shape, rate]\n"
     ]
    },
    {
     "data": {
      "text/html": [
       "\n",
       "<style>\n",
       "    /* Turns off some styling */\n",
       "    progress {\n",
       "        /* gets rid of default border in Firefox and Opera. */\n",
       "        border: none;\n",
       "        /* Needs to be in here for Safari polyfill so background images work as expected. */\n",
       "        background-size: auto;\n",
       "    }\n",
       "    progress:not([value]), progress:not([value])::-webkit-progress-bar {\n",
       "        background: repeating-linear-gradient(45deg, #7e7e7e, #7e7e7e 10px, #5c5c5c 10px, #5c5c5c 20px);\n",
       "    }\n",
       "    .progress-bar-interrupted, .progress-bar-interrupted::-webkit-progress-bar {\n",
       "        background: #F44336;\n",
       "    }\n",
       "</style>\n"
      ],
      "text/plain": [
       "<IPython.core.display.HTML object>"
      ]
     },
     "metadata": {},
     "output_type": "display_data"
    },
    {
     "data": {
      "text/html": [
       "\n",
       "    <div>\n",
       "      <progress value='44000' class='' max='44000' style='width:300px; height:20px; vertical-align: middle;'></progress>\n",
       "      100.00% [44000/44000 00:32&lt;00:00 Sampling 4 chains, 0 divergences]\n",
       "    </div>\n",
       "    "
      ],
      "text/plain": [
       "<IPython.core.display.HTML object>"
      ]
     },
     "metadata": {},
     "output_type": "display_data"
    },
    {
     "name": "stderr",
     "output_type": "stream",
     "text": [
      "Sampling 4 chains for 1_000 tune and 10_000 draw iterations (4_000 + 40_000 draws total) took 66 seconds.\n"
     ]
    }
   ],
   "source": [
    "# Sample data (replace with your own dataset)\n",
    "x = np.linspace(0, 20, 500)\n",
    "#P = stats.norm.pdf(x, 2, 1) + stats.norm.pdf(x, 4., 1.7)\n",
    "#P /= P.sum()\n",
    "#data = np.random.choice(x, p=P, size=500)\n",
    "data = stats.gamma.rvs(5, scale=2, size=500)\n",
    "\n",
    "#P = (stats.gamma.pdf(x, 5, scale=2) + stats.gamma.pdf(x, 12, scale=1))\n",
    "#P /= P.sum()\n",
    "#data = np.random.choice(x, p=P, size=500)\n",
    "\n",
    "# Define a PyMC3 model\n",
    "with pm.Model() as model:\n",
    "    # Define the parameters of the gamma distribution\n",
    "    #shape = pm.Exponential(\"shape\", lam=1.0)\n",
    "    #rate = pm.Exponential(\"rate\", lam=1.0)\n",
    "    shape = pm.Uniform(\"shape\", lower=3, upper=7)\n",
    "    rate = pm.Uniform(\"rate\", lower=0.1, upper=1)\n",
    "    \n",
    "    # Define the likelihood using the gamma distribution\n",
    "    likelihood = pm.Gamma(\"likelihood\", alpha=shape, beta=rate, observed=data)\n",
    "    \n",
    "    # Perform Bayesian inference\n",
    "    trace = pm.sample(10000, tune=1000)"
   ]
  },
  {
   "cell_type": "code",
   "execution_count": 18,
   "id": "0abe5837",
   "metadata": {},
   "outputs": [],
   "source": [
    "mu_shape, _ = trace.posterior.shape.mean(), trace.posterior.shape.std()\n",
    "mu_rate, _ = trace.posterior.rate.mean(), trace.posterior.rate.std()\n",
    "\n",
    "shape, rate = np.array(trace.posterior.shape), np.array(trace.posterior.rate)\n",
    "C = np.cov(np.column_stack([shape.ravel(), rate.ravel()]).T)\n",
    "SHAPE, RATE = np.random.multivariate_normal(np.array([mu_shape, mu_rate]), C, size=1000).T"
   ]
  },
  {
   "cell_type": "code",
   "execution_count": 19,
   "id": "e74c3a12",
   "metadata": {},
   "outputs": [],
   "source": [
    "std = np.std([stats.gamma.pdf(x, SHAPE[i], scale=RATE[i] ** -1) for i in range(1000)], axis=0)\n",
    "mean = np.mean([stats.gamma.pdf(x, SHAPE[i], scale=RATE[i] ** -1) for i in range(1000)], axis=0)"
   ]
  },
  {
   "cell_type": "code",
   "execution_count": 20,
   "id": "0447cac9",
   "metadata": {},
   "outputs": [
    {
     "data": {
      "text/plain": [
       "[<matplotlib.lines.Line2D at 0x7fc16f177a30>]"
      ]
     },
     "execution_count": 20,
     "metadata": {},
     "output_type": "execute_result"
    },
    {
     "data": {
      "image/png": "[encoded data removed]",
      "text/plain": [
       "<Figure size 432x288 with 1 Axes>"
      ]
     },
     "metadata": {
      "needs_background": "light"
     },
     "output_type": "display_data"
    }
   ],
   "source": [
    "plt.fill_between(x, mean - 1.96 * std, mean + 1.96 * std, alpha=0.25)\n",
    "plt.plot(x, stats.gamma.pdf(x, 5, scale=2))\n",
    "#plt.plot(x, 25 * P)"
   ]
  },
  {
   "cell_type": "code",
   "execution_count": 21,
   "id": "5e268e88",
   "metadata": {},
   "outputs": [
    {
     "data": {
      "text/plain": [
       "[<matplotlib.lines.Line2D at 0x7fc170b57250>]"
      ]
     },
     "execution_count": 21,
     "metadata": {},
     "output_type": "execute_result"
    },
    {
     "data": {
      "image/png": "[encoded data removed]",
      "text/plain": [
       "<Figure size 432x288 with 1 Axes>"
      ]
     },
     "metadata": {
      "needs_background": "light"
     },
     "output_type": "display_data"
    }
   ],
   "source": [
    "plt.hist(np.random.gamma(shape.ravel(), rate.ravel() ** -1), bins=100, histtype='step', density=True)\n",
    "plt.plot(x, stats.gamma.pdf(x, 5, scale=2))"
   ]
  },
  {
   "cell_type": "markdown",
   "id": "3a7987a7",
   "metadata": {},
   "source": [
    "## Correlations"
   ]
  },
  {
   "cell_type": "code",
   "execution_count": 22,
   "id": "ff48a374",
   "metadata": {},
   "outputs": [],
   "source": [
    "import pandas as pd\n",
    "import fantasy_math"
   ]
  },
  {
   "cell_type": "code",
   "execution_count": 23,
   "id": "c02db59a",
   "metadata": {},
   "outputs": [
    {
     "name": "stdout",
     "output_type": "stream",
     "text": [
      "Downcasting floats.\n",
      "CPU times: user 326 ms, sys: 98.8 ms, total: 425 ms\n",
      "Wall time: 4.54 s\n"
     ]
    }
   ],
   "source": [
    "%%time\n",
    "years = range(2019, 2023)\n",
    "columns = [\n",
    "    \"player_name\",\n",
    "    \"recent_team\",\n",
    "    \"week\",\n",
    "    \"position\",\n",
    "    \"fantasy_points_ppr\",\n",
    "    \"season_type\",\n",
    "    \"season\",\n",
    "]\n",
    "data = nfl.import_weekly_data(years=years, columns=columns)\n",
    "schedule = nfl.import_schedules(years=years)"
   ]
  },
  {
   "cell_type": "code",
   "execution_count": 24,
   "id": "eeaa83dd",
   "metadata": {},
   "outputs": [
    {
     "name": "stdout",
     "output_type": "stream",
     "text": [
      "CPU times: user 6.41 s, sys: 32.8 ms, total: 6.44 s\n",
      "Wall time: 6.45 s\n"
     ]
    }
   ],
   "source": [
    "%%time\n",
    "weeks = np.arange(1, 17)\n",
    "positions = {k: v for k, v in zip(['QB', 'RB', 'WR', 'TE'], [1, 2, 3, 1])}\n",
    "\n",
    "# Positions tracked and number of each\n",
    "rows = []\n",
    "for year in years:\n",
    "    year_data = data[data.season == year]\n",
    "    teams = year_data.recent_team.unique()\n",
    "    \n",
    "    for week in weeks:\n",
    "        subtable = year_data[year_data.week == week]\n",
    "        matchups = schedule[(schedule.week == week) & (schedule.season == year)]\n",
    "        \n",
    "        for (home_team, away_team) in zip(matchups.home_team, matchups.away_team):\n",
    "            \n",
    "            home_team_table = subtable[subtable.recent_team == home_team]\n",
    "            away_team_table = subtable[subtable.recent_team == away_team]\n",
    "            \n",
    "            row = []\n",
    "            for position, pnum in positions.items():\n",
    "                pos_table = home_team_table[home_team_table.position == position]\n",
    "                pos_table = pos_table.sort_values('fantasy_points_ppr', ascending=False)\n",
    "                pos_row = list(pos_table[:pnum].fantasy_points_ppr)\n",
    "                pos_row = pos_row + [0] * max(0, pnum - len(pos_row))\n",
    "                row += pos_row\n",
    "                \n",
    "            for position, pnum in positions.items():\n",
    "                pos_table = away_team_table[away_team_table.position == position]\n",
    "                pos_table = pos_table.sort_values('fantasy_points_ppr', ascending=False)\n",
    "                pos_row = list(pos_table[:pnum].fantasy_points_ppr)\n",
    "                pos_row = pos_row + [0] * max(0, pnum - len(pos_row))\n",
    "                row += pos_row\n",
    "\n",
    "            rows.append(row)"
   ]
  },
  {
   "cell_type": "code",
   "execution_count": 25,
   "id": "9128bc9f",
   "metadata": {},
   "outputs": [
    {
     "data": {
      "text/plain": [
       "<matplotlib.colorbar.Colorbar at 0x7fc17139bf70>"
      ]
     },
     "execution_count": 25,
     "metadata": {},
     "output_type": "execute_result"
    },
    {
     "data": {
      "image/png": "[encoded data removed]",
      "text/plain": [
       "<Figure size 432x288 with 2 Axes>"
      ]
     },
     "metadata": {
      "needs_background": "light"
     },
     "output_type": "display_data"
    }
   ],
   "source": [
    "plt.figure()\n",
    "corr = np.corrcoef(np.array(rows).T)\n",
    "plt.imshow(corr, cmap='seismic', vmin=-1, vmax=1)\n",
    "plt.axhline(6.5, color='k')\n",
    "plt.axvline(6.5, color='k')\n",
    "plt.colorbar()"
   ]
  },
  {
   "cell_type": "markdown",
   "id": "f5e5ca92",
   "metadata": {},
   "source": [
    "## All the Pieces"
   ]
  },
  {
   "cell_type": "code",
   "execution_count": 39,
   "id": "91ddde70",
   "metadata": {},
   "outputs": [
    {
     "name": "stdout",
     "output_type": "stream",
     "text": [
      "CPU times: user 27.8 ms, sys: 6.33 ms, total: 34.1 ms\n",
      "Wall time: 37.3 ms\n"
     ]
    }
   ],
   "source": [
    "%%time\n",
    "n_sims = 10000 # number of simulations\n",
    "\n",
    "# Sample shape and rate parameters from covariance matrix (do this for every player)\n",
    "SHAPES = []\n",
    "RATES = []\n",
    "for ms in list(np.linspace(0, 0.5, 7)) + list(np.linspace(-0.5, 0, 7)):\n",
    "    SHAPE, RATE = np.random.multivariate_normal(np.array([mu_shape + ms, mu_rate]), C, size=n_sims).T\n",
    "    SHAPES.append(SHAPE)\n",
    "    RATES.append(RATE)\n",
    "# Generate random correlation matrix\n",
    "# corr = np.random.uniform(0, 0.1, size=(10, 10))\n",
    "# corr = (corr + corr.T) / 2\n",
    "# corr[np.diag_indices_from(corr)] = 1\n",
    "\n",
    "# Samples from correlation matrix\n",
    "samples_correlated = np.random.multivariate_normal(np.zeros(corr.shape[0]), corr, size=n_sims)"
   ]
  },
  {
   "cell_type": "code",
   "execution_count": 40,
   "id": "8fc93459",
   "metadata": {},
   "outputs": [
    {
     "name": "stdout",
     "output_type": "stream",
     "text": [
      "CPU times: user 133 ms, sys: 5.17 ms, total: 138 ms\n",
      "Wall time: 140 ms\n"
     ]
    }
   ],
   "source": [
    "%%time\n",
    "all_samples = []\n",
    "for player_ind in range(corr.shape[0]):\n",
    "    samples_x = stats.gamma.ppf(\n",
    "        stats.norm.cdf(samples_correlated[:, player_ind]),\n",
    "        SHAPES[player_ind],\n",
    "        scale=RATES[player_ind] ** -1,\n",
    "    )\n",
    "    all_samples.append(samples_x)\n",
    "    \n",
    "all_samples = np.array(all_samples)"
   ]
  },
  {
   "cell_type": "code",
   "execution_count": 41,
   "id": "befb334f",
   "metadata": {},
   "outputs": [
    {
     "data": {
      "image/png": "[encoded data removed]",
      "text/plain": [
       "<Figure size 432x288 with 1 Axes>"
      ]
     },
     "metadata": {
      "needs_background": "light"
     },
     "output_type": "display_data"
    }
   ],
   "source": [
    "plt.figure()\n",
    "plt.hist(np.sum(all_samples[:7], axis=0), histtype='step', density=True, bins=50)\n",
    "plt.hist(np.sum(all_samples[7:], axis=0), histtype='step', density=True, bins=50)\n",
    "plt.show()"
   ]
  },
  {
   "cell_type": "code",
   "execution_count": 42,
   "id": "815333e3",
   "metadata": {},
   "outputs": [
    {
     "data": {
      "text/plain": [
       "0.3666"
      ]
     },
     "execution_count": 42,
     "metadata": {},
     "output_type": "execute_result"
    }
   ],
   "source": [
    "np.mean(np.sum(all_samples[:7], axis=0) < np.sum(all_samples[7:], axis=0))"
   ]
  },
  {
   "cell_type": "code",
   "execution_count": 43,
   "id": "e584219b",
   "metadata": {},
   "outputs": [
    {
     "data": {
      "text/plain": [
       "0.6176571268926477"
      ]
     },
     "execution_count": 43,
     "metadata": {},
     "output_type": "execute_result"
    }
   ],
   "source": [
    "win_probability(np.sum(all_samples[:7], axis=0), np.sum(all_samples[7:], axis=0))"
   ]
  },
  {
   "cell_type": "code",
   "execution_count": 44,
   "id": "31e1638c",
   "metadata": {},
   "outputs": [],
   "source": [
    "from scipy import interpolate, integrate, stats"
   ]
  },
  {
   "cell_type": "code",
   "execution_count": 45,
   "id": "79e3342e",
   "metadata": {},
   "outputs": [],
   "source": [
    "kde_m = stats.gaussian_kde(np.sum(all_samples[:7], axis=0))\n",
    "kde_n = stats.gaussian_kde(np.sum(all_samples[7:], axis=0))"
   ]
  },
  {
   "cell_type": "code",
   "execution_count": 46,
   "id": "a666c4f5",
   "metadata": {},
   "outputs": [],
   "source": [
    "m = np.sort(np.sum(all_samples[:7], axis=0))\n",
    "n = np.sort(np.sum(all_samples[7:], axis=0))\n",
    "\n",
    "ecdf = np.arange(1, len(m) + 1) / len(m)\n",
    "\n",
    "cdf_m = interpolate.interp1d(m, ecdf, fill_value=(0, 1), bounds_error=False)\n",
    "cdf_n = interpolate.interp1d(n, ecdf, fill_value=(0, 1), bounds_error=False)"
   ]
  },
  {
   "cell_type": "code",
   "execution_count": 47,
   "id": "f2b27208",
   "metadata": {},
   "outputs": [
    {
     "data": {
      "image/png": "[encoded data removed]",
      "text/plain": [
       "<Figure size 576x432 with 1 Axes>"
      ]
     },
     "metadata": {
      "needs_background": "light"
     },
     "output_type": "display_data"
    }
   ],
   "source": [
    "# Calculate the ECDF\n",
    "x = np.linspace(0, 180, 1000)\n",
    "\n",
    "# Plot the ECDF\n",
    "plt.figure(figsize=(8, 6))\n",
    "plt.step(x, cdf_m(x))\n",
    "plt.step(x, cdf_n(x))\n",
    "plt.show()"
   ]
  },
  {
   "cell_type": "code",
   "execution_count": 51,
   "id": "5f963165",
   "metadata": {},
   "outputs": [
    {
     "data": {
      "image/png": "[encoded data removed]",
      "text/plain": [
       "<Figure size 576x432 with 1 Axes>"
      ]
     },
     "metadata": {
      "needs_background": "light"
     },
     "output_type": "display_data"
    }
   ],
   "source": [
    "plt.figure(figsize=(8, 6))\n",
    "plt.step(x, np.abs(cdf_m(x) - cdf_n(x)))\n",
    "plt.step(x, np.abs(cdf_n(x) - cdf_m(x)))\n",
    "plt.show()"
   ]
  },
  {
   "cell_type": "code",
   "execution_count": 53,
   "id": "7d814467",
   "metadata": {},
   "outputs": [],
   "source": [
    "x1 = np.linspace(0, 180, 1000)\n"
   ]
  },
  {
   "cell_type": "code",
   "execution_count": 56,
   "id": "8b9ac2b9",
   "metadata": {},
   "outputs": [
    {
     "data": {
      "text/plain": [
       "<matplotlib.image.AxesImage at 0x7fc174aaa820>"
      ]
     },
     "execution_count": 56,
     "metadata": {},
     "output_type": "execute_result"
    },
    {
     "data": {
      "image/png": "[encoded data removed]",
      "text/plain": [
       "<Figure size 432x288 with 1 Axes>"
      ]
     },
     "metadata": {
      "needs_background": "light"
     },
     "output_type": "display_data"
    }
   ],
   "source": [
    "plt.imshow(np.outer(kde_m(x1), kde_n(x1)))"
   ]
  },
  {
   "cell_type": "code",
   "execution_count": 59,
   "id": "63f9294b",
   "metadata": {},
   "outputs": [
    {
     "data": {
      "text/plain": [
       "(0.3797629842347921, 1.4891211925926442e-08)"
      ]
     },
     "execution_count": 59,
     "metadata": {},
     "output_type": "execute_result"
    }
   ],
   "source": [
    "integrate.dblquad(lambda x, y: kde_m(x) * kde_n(y), 0, 180, 0, lambda x: x)"
   ]
  },
  {
   "cell_type": "code",
   "execution_count": 149,
   "id": "a7325550",
   "metadata": {},
   "outputs": [
    {
     "name": "stdout",
     "output_type": "stream",
     "text": [
      "Downcasting floats.\n"
     ]
    }
   ],
   "source": [
    "# This creates a table of player performance for a given season\n",
    "players = nfl.import_weekly_data([2022], thread_requests=True)\n",
    "players = players[players.week < 18]\n",
    "players = players.pivot_table(index=\"player_name\", columns=['season', 'week'], values='fantasy_points_ppr')\n",
    "players.fillna(0, inplace=True)\n",
    "players['Total'] = players.sum(1, numeric_only=True)\n",
    "players = players.sort_values(\"Total\", ascending=False)"
   ]
  },
  {
   "cell_type": "code",
   "execution_count": 178,
   "id": "134b13aa",
   "metadata": {},
   "outputs": [
    {
     "name": "stdout",
     "output_type": "stream",
     "text": [
      "Downcasting floats.\n"
     ]
    }
   ],
   "source": [
    "# Identify the top performing players by each position\n",
    "players = nfl.import_weekly_data([2022], thread_requests=True)\n",
    "players = players[players.week < 18]\n",
    "\n",
    "positions = [\"QB\", \"TE\", \"WR\", \"RB\"]\n",
    "nplayers_to_track = {\"QB\": 1, \"TE\": 2, \"WR\": 3, \"RB\": 2}\n",
    "teams = players.recent_team.unique()\n",
    "\n",
    "rankings = {team: {pos: [] for pos in positions} for team in teams}\n",
    "\n",
    "for team in teams:\n",
    "    for pos in positions:\n",
    "        tb = players[(players.position == pos) & (players.recent_team == team)].pivot(\n",
    "            index=\"player_name\", columns=[\"season\", \"week\"], values=\"fantasy_points_ppr\"\n",
    "        )\n",
    "        tb['Total'] = tb.sum(1, numeric_only=True)\n",
    "        tb = tb.sort_values(\"Total\", ascending=False)\n",
    "        \n",
    "        rankings[team][pos] = tb.index[:nplayers_to_track[pos]]"
   ]
  },
  {
   "cell_type": "code",
   "execution_count": 186,
   "id": "12dd9f1a",
   "metadata": {},
   "outputs": [
    {
     "name": "stdout",
     "output_type": "stream",
     "text": [
      "J.Garoppolo (11, 52)\n",
      "G.Kittle (14, 52)\n",
      "R.Dwelley (4, 52)\n",
      "B.Aiyuk (16, 52)\n",
      "D.Samuel (12, 52)\n",
      "J.Jennings (15, 52)\n",
      "C.McCaffrey (16, 52)\n",
      "J.Wilson (15, 52)\n"
     ]
    }
   ],
   "source": [
    "team = rankings['SF']\n",
    "\n",
    "tot = []\n",
    "for pos in team:\n",
    "     for player in team[pos]:\n",
    "        print (player, players[players.player_name == player].shape)"
   ]
  },
  {
   "cell_type": "code",
   "execution_count": 238,
   "id": "145da1ec",
   "metadata": {},
   "outputs": [],
   "source": [
    "table = nfl.import_depth_charts([2022])"
   ]
  },
  {
   "cell_type": "code",
   "execution_count": 240,
   "id": "4305d452",
   "metadata": {},
   "outputs": [
    {
     "name": "stdout",
     "output_type": "stream",
     "text": [
      "ATL depth_team\n",
      "3    2\n",
      "1    1\n",
      "2    1\n",
      "dtype: int64\n",
      "BUF depth_team\n",
      "1    1\n",
      "2    1\n",
      "3    1\n",
      "dtype: int64\n",
      "CHI depth_team\n",
      "3    2\n",
      "1    1\n",
      "2    1\n",
      "dtype: int64\n",
      "CIN depth_team\n",
      "1    1\n",
      "2    1\n",
      "3    1\n",
      "dtype: int64\n",
      "BAL depth_team\n",
      "3    2\n",
      "1    1\n",
      "2    1\n",
      "dtype: int64\n",
      "DAL depth_team\n",
      "1    1\n",
      "2    1\n",
      "3    1\n",
      "dtype: int64\n",
      "DEN depth_team\n",
      "3    2\n",
      "1    1\n",
      "2    1\n",
      "dtype: int64\n",
      "DET depth_team\n",
      "1    1\n",
      "2    1\n",
      "3    1\n",
      "dtype: int64\n",
      "GB depth_team\n",
      "3    2\n",
      "1    1\n",
      "2    1\n",
      "dtype: int64\n",
      "TEN depth_team\n",
      "1    2\n",
      "2    2\n",
      "dtype: int64\n"
     ]
    }
   ],
   "source": [
    "for cc in table.club_code.unique():\n",
    "    az = table[\n",
    "        (table.week == 6)\n",
    "        & (table.club_code == cc)\n",
    "        & (table.formation == \"Offense\")\n",
    "        & (table.position == \"TE\")\n",
    "    ]\n",
    "    if cc == \"IND\":\n",
    "        break\n",
    "    print(cc, az.value_counts(\"depth_team\"))"
   ]
  },
  {
   "cell_type": "code",
   "execution_count": 241,
   "id": "095a112f",
   "metadata": {},
   "outputs": [
    {
     "data": {
      "text/html": [
       "<div>\n",
       "<style scoped>\n",
       "    .dataframe tbody tr th:only-of-type {\n",
       "        vertical-align: middle;\n",
       "    }\n",
       "\n",
       "    .dataframe tbody tr th {\n",
       "        vertical-align: top;\n",
       "    }\n",
       "\n",
       "    .dataframe thead th {\n",
       "        text-align: right;\n",
       "    }\n",
       "</style>\n",
       "<table border=\"1\" class=\"dataframe\">\n",
       "  <thead>\n",
       "    <tr style=\"text-align: right;\">\n",
       "      <th></th>\n",
       "      <th>season</th>\n",
       "      <th>club_code</th>\n",
       "      <th>week</th>\n",
       "      <th>game_type</th>\n",
       "      <th>depth_team</th>\n",
       "      <th>last_name</th>\n",
       "      <th>first_name</th>\n",
       "      <th>football_name</th>\n",
       "      <th>formation</th>\n",
       "      <th>gsis_id</th>\n",
       "      <th>jersey_number</th>\n",
       "      <th>position</th>\n",
       "      <th>elias_id</th>\n",
       "      <th>depth_position</th>\n",
       "      <th>full_name</th>\n",
       "    </tr>\n",
       "  </thead>\n",
       "  <tbody>\n",
       "    <tr>\n",
       "      <th>12617</th>\n",
       "      <td>2022</td>\n",
       "      <td>IND</td>\n",
       "      <td>6</td>\n",
       "      <td>REG</td>\n",
       "      <td>1</td>\n",
       "      <td>Alie-Cox</td>\n",
       "      <td>Mo</td>\n",
       "      <td>Mo</td>\n",
       "      <td>Offense</td>\n",
       "      <td>00-0033217</td>\n",
       "      <td>81</td>\n",
       "      <td>TE</td>\n",
       "      <td>ALI177980</td>\n",
       "      <td>TE</td>\n",
       "      <td>Mo Alie-Cox</td>\n",
       "    </tr>\n",
       "    <tr>\n",
       "      <th>12633</th>\n",
       "      <td>2022</td>\n",
       "      <td>IND</td>\n",
       "      <td>6</td>\n",
       "      <td>REG</td>\n",
       "      <td>1</td>\n",
       "      <td>Granson</td>\n",
       "      <td>Kylen</td>\n",
       "      <td>Kylen</td>\n",
       "      <td>Offense</td>\n",
       "      <td>00-0036876</td>\n",
       "      <td>83</td>\n",
       "      <td>TE</td>\n",
       "      <td>GRA367521</td>\n",
       "      <td>TE</td>\n",
       "      <td>Kylen Granson</td>\n",
       "    </tr>\n",
       "    <tr>\n",
       "      <th>12635</th>\n",
       "      <td>2022</td>\n",
       "      <td>IND</td>\n",
       "      <td>6</td>\n",
       "      <td>REG</td>\n",
       "      <td>2</td>\n",
       "      <td>Woods</td>\n",
       "      <td>Jelani</td>\n",
       "      <td>Jelani</td>\n",
       "      <td>Offense</td>\n",
       "      <td>00-0037755</td>\n",
       "      <td>80</td>\n",
       "      <td>TE</td>\n",
       "      <td>WOO500422</td>\n",
       "      <td>TE</td>\n",
       "      <td>Jelani Woods</td>\n",
       "    </tr>\n",
       "  </tbody>\n",
       "</table>\n",
       "</div>"
      ],
      "text/plain": [
       "       season club_code  week game_type depth_team last_name first_name  \\\n",
       "12617    2022       IND     6       REG          1  Alie-Cox         Mo   \n",
       "12633    2022       IND     6       REG          1   Granson      Kylen   \n",
       "12635    2022       IND     6       REG          2     Woods     Jelani   \n",
       "\n",
       "      football_name formation     gsis_id jersey_number position   elias_id  \\\n",
       "12617            Mo   Offense  00-0033217            81       TE  ALI177980   \n",
       "12633         Kylen   Offense  00-0036876            83       TE  GRA367521   \n",
       "12635        Jelani   Offense  00-0037755            80       TE  WOO500422   \n",
       "\n",
       "      depth_position      full_name  \n",
       "12617             TE    Mo Alie-Cox  \n",
       "12633             TE  Kylen Granson  \n",
       "12635             TE   Jelani Woods  "
      ]
     },
     "execution_count": 241,
     "metadata": {},
     "output_type": "execute_result"
    }
   ],
   "source": [
    "az"
   ]
  },
  {
   "cell_type": "code",
   "execution_count": null,
   "id": "0024f012",
   "metadata": {},
   "outputs": [],
   "source": []
  }
 ],
 "metadata": {
  "kernelspec": {
   "display_name": "Python 3 (ipykernel)",
   "language": "python",
   "name": "python3"
  },
  "language_info": {
   "codemirror_mode": {
    "name": "ipython",
    "version": 3
   },
   "file_extension": ".py",
   "mimetype": "text/x-python",
   "name": "python",
   "nbconvert_exporter": "python",
   "pygments_lexer": "ipython3",
   "version": "3.8.8"
  },
  "toc": {
   "base_numbering": 1,
   "nav_menu": {},
   "number_sections": true,
   "sideBar": true,
   "skip_h1_title": false,
   "title_cell": "Table of Contents",
   "title_sidebar": "Contents",
   "toc_cell": false,
   "toc_position": {},
   "toc_section_display": true,
   "toc_window_display": false
  }
 },
 "nbformat": 4,
 "nbformat_minor": 5
}
