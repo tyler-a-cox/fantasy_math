{
 "cells": [
  {
   "cell_type": "code",
   "execution_count": 1,
   "id": "a4c5c6d0",
   "metadata": {},
   "outputs": [],
   "source": [
    "import numpy as np\n",
    "import pylab as plt\n",
    "import requests\n",
    "import io\n",
    "import pymc as pm\n",
    "\n",
    "from scipy import stats, linalg"
   ]
  },
  {
   "cell_type": "markdown",
   "id": "5e78ed38",
   "metadata": {},
   "source": [
    "## Recreating Fantasy Math"
   ]
  },
  {
   "cell_type": "markdown",
   "id": "f56735b5",
   "metadata": {},
   "source": [
    "[Fantasy Math](https://www.nathanbraun.com/fantasymath/) model used to help set fantasy football line-ups. Models the player outputs as a function of their [ECR](https://www.fantasypros.com/nfl/rankings/ppr-wr-cheatsheets.php)."
   ]
  },
  {
   "cell_type": "code",
   "execution_count": 2,
   "id": "4296e9e5",
   "metadata": {},
   "outputs": [],
   "source": [
    "class Player:\n",
    "    def __init__(self, alpha, beta, player_name=None, team=None, position=None):\n",
    "        \"\"\"\n",
    "        \"\"\"\n",
    "        self.name = player_name\n",
    "        self.team = team\n",
    "        self.position = position\n",
    "        self.alpha = alpha\n",
    "        self.beta = beta\n",
    "\n",
    "    def _populate_statistics(self):\n",
    "        \"\"\"\n",
    "        Take information from a table and load it into a dictionary\n",
    "        \"\"\"\n",
    "        self.statistics = {}\n",
    "        \n",
    "    def _get_weekly_ecr(self):\n",
    "        \"\"\"\n",
    "        \"\"\"\n",
    "        pass\n",
    "    \n",
    "    def _cls(self):\n",
    "        \"\"\"\n",
    "        \"\"\"\n",
    "        pass"
   ]
  },
  {
   "cell_type": "markdown",
   "id": "6ac46f92",
   "metadata": {},
   "source": [
    "Procedure for generating correlated samples\n",
    "\n",
    "1. Define distributions associated with each random variable (player score)\n",
    "    1. This comes from historical data associated with the player ECR\n",
    "2. Define correlations between random variables\n",
    "    1. Again historical data\n",
    "3. Sample from correlated distributions\n",
    "    1. asdf"
   ]
  },
  {
   "cell_type": "code",
   "execution_count": 3,
   "id": "ca3210ff",
   "metadata": {},
   "outputs": [],
   "source": [
    "alpha_x = 4.0 # Shape parameter for X\n",
    "beta_x = 1.0 # Rate parameter for X\n",
    "\n",
    "alpha_y = 3.0\n",
    "beta_y = 0.5 \n",
    "\n",
    "# Degree of correlation\n",
    "correlation = 0.5\n",
    "\n",
    "# Define the covariance matrix\n",
    "corr = np.array([\n",
    "    [1, correlation], [correlation, 1]\n",
    "])\n",
    "\n",
    "\n",
    "nsamples = 50000\n",
    "samples_correlated = np.random.multivariate_normal(np.zeros(2), corr, size=nsamples)"
   ]
  },
  {
   "cell_type": "code",
   "execution_count": 4,
   "id": "564750f9",
   "metadata": {},
   "outputs": [],
   "source": [
    "samples_x = stats.gamma.ppf(\n",
    "    stats.norm.cdf(samples_correlated[:, 0]),\n",
    "    alpha_x,\n",
    "    scale=beta_x ** -1,\n",
    ")\n",
    "\n",
    "samples_y = stats.gamma.ppf(\n",
    "    stats.norm.cdf(samples_correlated[:, 1]),\n",
    "    alpha_y,\n",
    "    scale=beta_y ** -1,\n",
    ")"
   ]
  },
  {
   "cell_type": "code",
   "execution_count": 5,
   "id": "1c2106bb",
   "metadata": {
    "scrolled": true
   },
   "outputs": [
    {
     "data": {
      "image/png": "[encoded data removed]",
      "text/plain": [
       "<Figure size 432x288 with 1 Axes>"
      ]
     },
     "metadata": {
      "needs_background": "light"
     },
     "output_type": "display_data"
    }
   ],
   "source": [
    "plt.figure()\n",
    "plt.hist(np.random.gamma(alpha_x, 1 / beta_x, size=nsamples), bins=100, histtype='step')\n",
    "plt.hist(np.random.gamma(alpha_y, 1 / beta_y, size=nsamples), bins=100, histtype='step')\n",
    "plt.show()"
   ]
  },
  {
   "cell_type": "code",
   "execution_count": 6,
   "id": "a3507cc7",
   "metadata": {},
   "outputs": [
    {
     "data": {
      "image/png": "[encoded data removed]",
      "text/plain": [
       "<Figure size 432x288 with 1 Axes>"
      ]
     },
     "metadata": {
      "needs_background": "light"
     },
     "output_type": "display_data"
    }
   ],
   "source": [
    "plt.figure()\n",
    "plt.hist(samples_x, bins=100, histtype='step')\n",
    "plt.hist(samples_y, bins=100, histtype='step')\n",
    "plt.show()"
   ]
  },
  {
   "cell_type": "markdown",
   "id": "498e1a35",
   "metadata": {},
   "source": [
    "## Teams"
   ]
  },
  {
   "cell_type": "code",
   "execution_count": 7,
   "id": "f0f6f1cd",
   "metadata": {},
   "outputs": [],
   "source": [
    "def generate_samples(dist_params, correlation, nsamples=1000):\n",
    "    \"\"\"\n",
    "    \"\"\"\n",
    "    assert len(dist_params) == correlation.shape[0], \"A\"\n",
    "\n",
    "    # asdf\n",
    "    samples = np.random.multivariate_normal(\n",
    "        np.zeros(correlation.shape[0]), correlation, nsamples\n",
    "    )\n",
    "\n",
    "    players = []\n",
    "    for player_ind, (alpha, beta) in enumerate(dist_params):\n",
    "        player_samples = stats.gamma.ppf(\n",
    "            stats.norm.cdf(samples[:, player_ind]), alpha, scale=beta ** -1,\n",
    "        )\n",
    "        players.append(player_samples)\n",
    "\n",
    "    return np.array(players)\n",
    "\n",
    "def fit_gamma_distribution(statistics, method='MLE', loc=0.0):\n",
    "    \"\"\"\n",
    "    \"\"\"\n",
    "    if method == \"MLE\":\n",
    "        shape, _, scale = stats.gamma.fit(statistics, floc=loc)\n",
    "        \n",
    "    elif method == 'Bayes':\n",
    "        shape, scale = None, None \n",
    "    \n",
    "    else:\n",
    "        raise ValueError(f\"Method, {method}, is currently unsupoorted\")\n",
    "    return "
   ]
  },
  {
   "cell_type": "code",
   "execution_count": 8,
   "id": "21c1a8d1",
   "metadata": {},
   "outputs": [],
   "source": [
    "# Generate mock rosters and correlations between players\n",
    "nplayers = 10\n",
    "dist_params1 = list(zip(np.full(nplayers, 10), np.linspace(0.5, 0.5, nplayers)))\n",
    "dist_params2 = list(zip(np.full(nplayers, 10), np.linspace(0.1, 0.2, nplayers)))\n",
    "\n",
    "nsamples = 10000\n",
    "used_off_diagonal_terms = True\n",
    "\n",
    "if used_off_diagonal_terms:\n",
    "    correlation = np.random.uniform(0, 0.25, size=(10, 10))\n",
    "    correlation[np.diag_indices_from(correlation)] = 1\n",
    "    correlation = (correlation + correlation.T) / 2\n",
    "else:\n",
    "    correlation = np.diag(np.ones(nplayers))\n",
    "\n",
    "team1 = generate_samples(dist_params1, correlation, nsamples=nsamples)\n",
    "team2 = generate_samples(dist_params2, correlation, nsamples=nsamples)"
   ]
  },
  {
   "cell_type": "code",
   "execution_count": 9,
   "id": "8dd03a78",
   "metadata": {},
   "outputs": [],
   "source": [
    "params = [stats.gamma.fit(team1[i], floc=0.0) for i in range(team1.shape[0])]"
   ]
  },
  {
   "cell_type": "code",
   "execution_count": 10,
   "id": "c09a5038",
   "metadata": {},
   "outputs": [
    {
     "data": {
      "image/png": "[encoded data removed]",
      "text/plain": [
       "<Figure size 432x288 with 1 Axes>"
      ]
     },
     "metadata": {
      "needs_background": "light"
     },
     "output_type": "display_data"
    }
   ],
   "source": [
    "plt.figure()\n",
    "plt.hist(team1.sum(0), bins=100, histtype='step')\n",
    "plt.hist(team2.sum(0), bins=100, histtype='step')\n",
    "plt.show()"
   ]
  },
  {
   "cell_type": "code",
   "execution_count": 11,
   "id": "7ca4c5a7",
   "metadata": {},
   "outputs": [],
   "source": [
    "from scipy import special\n",
    "\n",
    "def win_probability(team1, team2):\n",
    "    \"\"\"\n",
    "    Gives the probability of team 1 scoring a higher than team 2 assuming team 1 and team 2\n",
    "    are Gaussian distributed\n",
    "    \"\"\"\n",
    "    mu1 = np.mean(team1)\n",
    "    mu2 = np.mean(team2)\n",
    "    mu = mu1 - mu2\n",
    "    \n",
    "    var1 = np.var(team1)\n",
    "    var2 = np.var(team2)\n",
    "    var = var1 + var2\n",
    "    \n",
    "    return special.erfc(-mu / np.sqrt(2 * var)) / 2"
   ]
  },
  {
   "cell_type": "code",
   "execution_count": 12,
   "id": "8a3bae02",
   "metadata": {},
   "outputs": [],
   "source": [
    "X = np.sum(team1, axis=0)\n",
    "Y = np.sum(team2, axis=0)"
   ]
  },
  {
   "cell_type": "markdown",
   "id": "96915b48",
   "metadata": {},
   "source": [
    "### Bayesian Modeling"
   ]
  },
  {
   "cell_type": "markdown",
   "id": "4d9185ba",
   "metadata": {},
   "source": [
    "Another approach we can take to modeling the distribution of player outcomes, is by performing an MCMC fit of a Gamma distribution to the data. This approach allows us to account of uncertainties in our estimate of the Gamma distribution and incorporate those incertainties into the sampling. This approach is far slower, but in theory, produces samples which better match the true points distribution.\n",
    "\n",
    "Posteriors look roughly Gaussian. Perhaps the best thing to do would be to fit the MCMC to the true distributions. After computing the mean and covariance of the posteriors, we can generate $\\alpha$ and $\\beta$ samples from a multivariate Gaussian distribution. We can then use these $\\alpha$ and $\\beta$ values to sample from Gamma distributions to simulate."
   ]
  },
  {
   "cell_type": "code",
   "execution_count": 14,
   "id": "87af9056",
   "metadata": {},
   "outputs": [
    {
     "name": "stderr",
     "output_type": "stream",
     "text": [
      "Auto-assigning NUTS sampler...\n",
      "Initializing NUTS using jitter+adapt_diag...\n",
      "Multiprocess sampling (4 chains in 4 jobs)\n",
      "NUTS: [shape, rate]\n"
     ]
    },
    {
     "data": {
      "text/html": [
       "\n",
       "<style>\n",
       "    /* Turns off some styling */\n",
       "    progress {\n",
       "        /* gets rid of default border in Firefox and Opera. */\n",
       "        border: none;\n",
       "        /* Needs to be in here for Safari polyfill so background images work as expected. */\n",
       "        background-size: auto;\n",
       "    }\n",
       "    progress:not([value]), progress:not([value])::-webkit-progress-bar {\n",
       "        background: repeating-linear-gradient(45deg, #7e7e7e, #7e7e7e 10px, #5c5c5c 10px, #5c5c5c 20px);\n",
       "    }\n",
       "    .progress-bar-interrupted, .progress-bar-interrupted::-webkit-progress-bar {\n",
       "        background: #F44336;\n",
       "    }\n",
       "</style>\n"
      ],
      "text/plain": [
       "<IPython.core.display.HTML object>"
      ]
     },
     "metadata": {},
     "output_type": "display_data"
    },
    {
     "data": {
      "text/html": [
       "\n",
       "    <div>\n",
       "      <progress value='44000' class='' max='44000' style='width:300px; height:20px; vertical-align: middle;'></progress>\n",
       "      100.00% [44000/44000 00:22&lt;00:00 Sampling 4 chains, 0 divergences]\n",
       "    </div>\n",
       "    "
      ],
      "text/plain": [
       "<IPython.core.display.HTML object>"
      ]
     },
     "metadata": {},
     "output_type": "display_data"
    },
    {
     "name": "stderr",
     "output_type": "stream",
     "text": [
      "Sampling 4 chains for 1_000 tune and 10_000 draw iterations (4_000 + 40_000 draws total) took 49 seconds.\n"
     ]
    }
   ],
   "source": [
    "# Sample data (replace with your own dataset)\n",
    "x = np.linspace(0, 20, 500)\n",
    "#P = stats.norm.pdf(x, 2, 1) + stats.norm.pdf(x, 4., 1.7)\n",
    "#P /= P.sum()\n",
    "#data = np.random.choice(x, p=P, size=500)\n",
    "data = stats.gamma.rvs(5, scale=2, size=500)\n",
    "\n",
    "#P = (stats.gamma.pdf(x, 5, scale=2) + stats.gamma.pdf(x, 12, scale=1))\n",
    "#P /= P.sum()\n",
    "#data = np.random.choice(x, p=P, size=500)\n",
    "\n",
    "# Define a PyMC3 model\n",
    "with pm.Model() as model:\n",
    "    # Define the parameters of the gamma distribution\n",
    "    #shape = pm.Exponential(\"shape\", lam=1.0)\n",
    "    #rate = pm.Exponential(\"rate\", lam=1.0)\n",
    "    shape = pm.Uniform(\"shape\", lower=3, upper=7)\n",
    "    rate = pm.Uniform(\"rate\", lower=0.1, upper=1)\n",
    "    \n",
    "    # Define the likelihood using the gamma distribution\n",
    "    likelihood = pm.Gamma(\"likelihood\", alpha=shape, beta=rate, observed=data)\n",
    "    \n",
    "    # Perform Bayesian inference\n",
    "    trace = pm.sample(10000, tune=1000)"
   ]
  },
  {
   "cell_type": "code",
   "execution_count": 15,
   "id": "0abe5837",
   "metadata": {},
   "outputs": [],
   "source": [
    "mu_shape, _ = trace.posterior.shape.mean(), trace.posterior.shape.std()\n",
    "mu_rate, _ = trace.posterior.rate.mean(), trace.posterior.rate.std()\n",
    "\n",
    "shape, rate = np.array(trace.posterior.shape), np.array(trace.posterior.rate)\n",
    "C = np.cov(np.column_stack([shape.ravel(), rate.ravel()]).T)\n",
    "SHAPE, RATE = np.random.multivariate_normal(np.array([mu_shape, mu_rate]), C, size=1000).T"
   ]
  },
  {
   "cell_type": "code",
   "execution_count": 16,
   "id": "e74c3a12",
   "metadata": {},
   "outputs": [],
   "source": [
    "std = np.std([stats.gamma.pdf(x, SHAPE[i], scale=RATE[i] ** -1) for i in range(1000)], axis=0)\n",
    "mean = np.mean([stats.gamma.pdf(x, SHAPE[i], scale=RATE[i] ** -1) for i in range(1000)], axis=0)"
   ]
  },
  {
   "cell_type": "code",
   "execution_count": 19,
   "id": "0447cac9",
   "metadata": {},
   "outputs": [
    {
     "data": {
      "text/plain": [
       "[<matplotlib.lines.Line2D at 0x7ff580f6c430>]"
      ]
     },
     "execution_count": 19,
     "metadata": {},
     "output_type": "execute_result"
    },
    {
     "data": {
      "image/png": "[encoded data removed]",
      "text/plain": [
       "<Figure size 432x288 with 1 Axes>"
      ]
     },
     "metadata": {
      "needs_background": "light"
     },
     "output_type": "display_data"
    }
   ],
   "source": [
    "plt.fill_between(x, mean - 1.96 * std, mean + 1.96 * std, alpha=0.25)\n",
    "plt.plot(x, stats.gamma.pdf(x, 5, scale=2))\n",
    "#plt.plot(x, 25 * P)"
   ]
  },
  {
   "cell_type": "code",
   "execution_count": 20,
   "id": "5e268e88",
   "metadata": {},
   "outputs": [
    {
     "data": {
      "text/plain": [
       "[<matplotlib.lines.Line2D at 0x7ff57fea2d90>]"
      ]
     },
     "execution_count": 20,
     "metadata": {},
     "output_type": "execute_result"
    },
    {
     "data": {
      "image/png": "[encoded data removed]",
      "text/plain": [
       "<Figure size 432x288 with 1 Axes>"
      ]
     },
     "metadata": {
      "needs_background": "light"
     },
     "output_type": "display_data"
    }
   ],
   "source": [
    "plt.hist(np.random.gamma(shape.ravel(), rate.ravel() ** -1), bins=100, histtype='step', density=True)\n",
    "plt.plot(x, stats.gamma.pdf(x, 5, scale=2))"
   ]
  },
  {
   "cell_type": "markdown",
   "id": "3a7987a7",
   "metadata": {},
   "source": [
    "## Correlations"
   ]
  },
  {
   "cell_type": "code",
   "execution_count": 21,
   "id": "ff48a374",
   "metadata": {},
   "outputs": [],
   "source": [
    "import pandas as pd"
   ]
  },
  {
   "cell_type": "code",
   "execution_count": 22,
   "id": "1a042c18",
   "metadata": {},
   "outputs": [],
   "source": [
    "def process_rbs(table, n_rbs=2):\n",
    "    \"\"\"\n",
    "    \"\"\"\n",
    "    player = [\" \".join(list(name)[:-1]) for name in table['Name'].str.split(' ')]\n",
    "    teams = [name[-1] for name in table['Name'].str.split(' ')]\n",
    "    table['Name'] = player\n",
    "    table['Team'] = teams\n",
    "\n",
    "    rb_table = []\n",
    "    for team in table['Team'].unique():\n",
    "        subtable = table[table['Team'] == team].sort_values('FantPt', ascending=False)\n",
    "        rb_table.append(subtable.iloc[:n_rbs])\n",
    "        \n",
    "    return pd.concat(rb_table)\n",
    "\n",
    "def process_qbs(table, n_qbs=1):\n",
    "    \"\"\"\n",
    "    \"\"\"\n",
    "    player = [\" \".join(list(name)[:-1]) for name in table['Name'].str.split(' ')]\n",
    "    teams = [name[-1] for name in table['Name'].str.split(' ')]\n",
    "    table['Name'] = player\n",
    "    table['Team'] = teams\n",
    "    \n",
    "    qb_table = []\n",
    "    for team in table['Team'].unique():\n",
    "        subtable = table[table['Team'] == team].sort_values('FantPt', ascending=False)\n",
    "        qb_table.append(subtable.iloc[:n_qbs])\n",
    "        \n",
    "    return pd.concat(qb_table)"
   ]
  },
  {
   "cell_type": "code",
   "execution_count": 23,
   "id": "c4977fba",
   "metadata": {},
   "outputs": [],
   "source": [
    "def power(seasons=np.arange(2015, 2023), positions=['qb', 'wr', 'rb', 'te'], n_players=[1, 3, 2, 1]):\n",
    "    rows = []\n",
    "    \n",
    "    weeks = np.arange(1, 17)\n",
    "    for year in seasons:\n",
    "        for week in weeks:\n",
    "            pos_tables = []\n",
    "            for n_player, position in zip(n_players, positions):\n",
    "                url = f\"https://www.footballguys.com/playerhistoricalstats?pos={position}&yr={year}&startwk={week}&stopwk={week}&profile=p\"\n",
    "                tables = pd.read_html(\n",
    "                    io.StringIO(requests.get(url).text)\n",
    "                )\n",
    "                table = tables[0]\n",
    "                pos_tables.append(process_rbs(table, n_rbs=n_player))\n",
    "\n",
    "            for team in pos_tables[0][\"Team\"].unique():\n",
    "                group = []\n",
    "                for pos_table in pos_tables:\n",
    "                    group += list(pos_table[pos_table[\"Team\"] == team][\"FantPt\"])\n",
    "\n",
    "                rows.append(group)\n",
    "            \n",
    "    return rows"
   ]
  },
  {
   "cell_type": "code",
   "execution_count": 24,
   "id": "3175122e",
   "metadata": {},
   "outputs": [
    {
     "name": "stdout",
     "output_type": "stream",
     "text": [
      "CPU times: user 42.8 s, sys: 988 ms, total: 43.8 s\n",
      "Wall time: 4min 48s\n"
     ]
    }
   ],
   "source": [
    "%%time\n",
    "rows = power()"
   ]
  },
  {
   "cell_type": "code",
   "execution_count": 25,
   "id": "630cc937",
   "metadata": {},
   "outputs": [],
   "source": [
    "rows = np.array([row for row in rows if len(row) == 7])"
   ]
  },
  {
   "cell_type": "code",
   "execution_count": 26,
   "id": "9128bc9f",
   "metadata": {},
   "outputs": [
    {
     "data": {
      "text/plain": [
       "<matplotlib.colorbar.Colorbar at 0x7ff57da88dc0>"
      ]
     },
     "execution_count": 26,
     "metadata": {},
     "output_type": "execute_result"
    },
    {
     "data": {
      "image/png": "[encoded data removed]",
      "text/plain": [
       "<Figure size 432x288 with 2 Axes>"
      ]
     },
     "metadata": {
      "needs_background": "light"
     },
     "output_type": "display_data"
    }
   ],
   "source": [
    "plt.figure()\n",
    "corr = np.corrcoef(np.array(rows).T)\n",
    "plt.imshow(corr, cmap='seismic', vmin=-1, vmax=1)\n",
    "plt.colorbar()"
   ]
  },
  {
   "cell_type": "code",
   "execution_count": 29,
   "id": "77e6ca9c",
   "metadata": {},
   "outputs": [
    {
     "data": {
      "text/plain": [
       "(3793, 7)"
      ]
     },
     "execution_count": 29,
     "metadata": {},
     "output_type": "execute_result"
    }
   ],
   "source": [
    "rows.shape"
   ]
  },
  {
   "cell_type": "code",
   "execution_count": 34,
   "id": "5490cfc7",
   "metadata": {},
   "outputs": [],
   "source": [
    "rho, _ = stats.spearmanr(rows[:])"
   ]
  },
  {
   "cell_type": "code",
   "execution_count": 35,
   "id": "d4ac23f9",
   "metadata": {},
   "outputs": [
    {
     "data": {
      "text/plain": [
       "<matplotlib.colorbar.Colorbar at 0x7ff5822d6cd0>"
      ]
     },
     "execution_count": 35,
     "metadata": {},
     "output_type": "execute_result"
    },
    {
     "data": {
      "image/png": "[encoded data removed]",
      "text/plain": [
       "<Figure size 432x288 with 2 Axes>"
      ]
     },
     "metadata": {
      "needs_background": "light"
     },
     "output_type": "display_data"
    }
   ],
   "source": [
    "plt.figure()\n",
    "plt.imshow(rho, cmap='seismic', vmin=-1, vmax=1)\n",
    "plt.colorbar()"
   ]
  },
  {
   "cell_type": "markdown",
   "id": "f5e5ca92",
   "metadata": {},
   "source": [
    "## All the Pieces"
   ]
  },
  {
   "cell_type": "code",
   "execution_count": 120,
   "id": "91ddde70",
   "metadata": {},
   "outputs": [
    {
     "name": "stdout",
     "output_type": "stream",
     "text": [
      "CPU times: user 7.3 ms, sys: 1.87 ms, total: 9.16 ms\n",
      "Wall time: 6.83 ms\n"
     ]
    }
   ],
   "source": [
    "%%time\n",
    "n_sims = 10000 # number of simulations\n",
    "\n",
    "# Sample shape and rate parameters from covariance matrix (do this for every player)\n",
    "SHAPE, RATE = np.random.multivariate_normal(np.array([mu_shape, mu_rate]), C, size=n_sims).T\n",
    "\n",
    "# Generate random correlation matrix\n",
    "corr = np.random.uniform(0, 0.1, size=(10, 10))\n",
    "corr = (corr + corr.T) / 2\n",
    "corr[np.diag_indices_from(corr)] = 1\n",
    "\n",
    "# Samples from correlation matrix\n",
    "samples_correlated = np.random.multivariate_normal(np.zeros(corr.shape[0]), corr, size=n_sims)"
   ]
  },
  {
   "cell_type": "code",
   "execution_count": 121,
   "id": "8fc93459",
   "metadata": {},
   "outputs": [
    {
     "name": "stdout",
     "output_type": "stream",
     "text": [
      "CPU times: user 95 ms, sys: 2.74 ms, total: 97.8 ms\n",
      "Wall time: 96.6 ms\n"
     ]
    }
   ],
   "source": [
    "%%time\n",
    "all_samples = []\n",
    "for player_ind in range(corr.shape[0]):\n",
    "    samples_x = stats.gamma.ppf(\n",
    "        stats.norm.cdf(samples_correlated[:, player_ind]),\n",
    "        SHAPE,\n",
    "        scale=RATE ** -1,\n",
    "    )\n",
    "    all_samples.append(samples_x)\n",
    "    \n",
    "all_samples = np.array(all_samples)"
   ]
  },
  {
   "cell_type": "code",
   "execution_count": 122,
   "id": "befb334f",
   "metadata": {},
   "outputs": [
    {
     "data": {
      "image/png": "[encoded data removed]",
      "text/plain": [
       "<Figure size 432x288 with 1 Axes>"
      ]
     },
     "metadata": {
      "needs_background": "light"
     },
     "output_type": "display_data"
    }
   ],
   "source": [
    "plt.figure()\n",
    "plt.hist(np.sum(all_samples, axis=0), histtype='step', density=True, bins=50)\n",
    "plt.show()"
   ]
  },
  {
   "cell_type": "code",
   "execution_count": 127,
   "id": "a7cc9f57",
   "metadata": {},
   "outputs": [
    {
     "data": {
      "text/plain": [
       "[<matplotlib.lines.Line2D at 0x7f80bc671790>]"
      ]
     },
     "execution_count": 127,
     "metadata": {},
     "output_type": "execute_result"
    },
    {
     "data": {
      "image/png": "[encoded data removed]",
      "text/plain": [
       "<Figure size 432x288 with 1 Axes>"
      ]
     },
     "metadata": {
      "needs_background": "light"
     },
     "output_type": "display_data"
    }
   ],
   "source": [
    "x = np.linspace(0, 30, 1000)\n",
    "plt.hist(samples_x, histtype='step', bins=100, density=True)\n",
    "plt.plot(x, stats.gamma.pdf(x, 5, scale=2))"
   ]
  },
  {
   "cell_type": "code",
   "execution_count": 60,
   "id": "9dcc7c9b",
   "metadata": {},
   "outputs": [],
   "source": [
    "positions=['qb', 'wr', 'rb', 'te']\n",
    "n_players=[1, 3, 2, 1]\n",
    "\n",
    "urls = [\n",
    "    f\"https://www.footballguys.com/playerhistoricalstats?pos={position}&yr={year}&startwk={week}&stopwk={week}&profile=p\"\n",
    "    for year in np.arange(2015, 2023) for week in np.arange(1, 17) for n_player, position in zip(n_players, positions)\n",
    "]\n",
    "\n",
    "async def fetch_html(session, url):\n",
    "    try:\n",
    "        async with session.get(url) as response:\n",
    "            response.raise_for_status()\n",
    "            return await response.text()\n",
    "    except aiohttp.ClientError as e:\n",
    "        print(f\"Error fetching {url}: {e}\")\n",
    "        return None\n",
    "\n",
    "async def main():\n",
    "    async with aiohttp.ClientSession() as session:\n",
    "        tasks = [fetch_html(session, url) for url in urls]\n",
    "        html_contents = await asyncio.gather(*tasks)\n",
    "\n",
    "    tables = []\n",
    "    # Parse the HTML content using pd.read_html\n",
    "    for html_content in html_contents:\n",
    "        if html_content is not None:\n",
    "            try:\n",
    "                tables.append(pd.read_html(html_content))\n",
    "            except pd.errors.EmptyDataError:\n",
    "                print(\"No data found in HTML.\")\n",
    "    \n",
    "    return tables"
   ]
  }
 ],
 "metadata": {
  "kernelspec": {
   "display_name": "Python 3 (ipykernel)",
   "language": "python",
   "name": "python3"
  },
  "language_info": {
   "codemirror_mode": {
    "name": "ipython",
    "version": 3
   },
   "file_extension": ".py",
   "mimetype": "text/x-python",
   "name": "python",
   "nbconvert_exporter": "python",
   "pygments_lexer": "ipython3",
   "version": "3.8.8"
  },
  "toc": {
   "base_numbering": 1,
   "nav_menu": {},
   "number_sections": true,
   "sideBar": true,
   "skip_h1_title": false,
   "title_cell": "Table of Contents",
   "title_sidebar": "Contents",
   "toc_cell": false,
   "toc_position": {},
   "toc_section_display": true,
   "toc_window_display": false
  }
 },
 "nbformat": 4,
 "nbformat_minor": 5
}
